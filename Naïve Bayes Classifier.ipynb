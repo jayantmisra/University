{
 "cells": [
  {
   "cell_type": "code",
   "execution_count": 9,
   "metadata": {},
   "outputs": [
    {
     "name": "stdout",
     "output_type": "stream",
     "text": [
      "Probability of Class being positive :\n",
      "\n",
      "ID            0.036458\n",
      "Wear          0.036458\n",
      "Vegetarian    0.036458\n",
      "Cuisine       0.036458\n",
      "Class         0.036458\n",
      "dtype: float64\n",
      "--------------------------------------------------------------\n",
      "Probability of Class being negative :\n",
      "\n",
      "ID            0.007778\n",
      "Wear          0.007778\n",
      "Vegetarian    0.007778\n",
      "Cuisine       0.007778\n",
      "Class         0.007778\n",
      "dtype: float64\n"
     ]
    }
   ],
   "source": [
    "# Attempt to understand basic Naive Bayes' Classifier \n",
    "\n",
    "import pandas as pd\n",
    "\n",
    "df = pd.read_csv('test.csv')\n",
    "\n",
    "c_pos = df[df['Class'] == 'pos'].count()\n",
    "c_neg = df[df['Class'] == 'neg'].count()\n",
    "\n",
    "p_pos = c_pos / df.count()\n",
    "p_neg = c_neg / df.count()\n",
    "\n",
    "def probp(col, entry):\n",
    "    positive = df[(df[col] == entry) & (df['Class'] == 'pos')].count() / c_pos\n",
    "    return positive\n",
    "\n",
    "def probn(col, entry):\n",
    "    negative = df[(df[col] == entry) & (df['Class'] == 'neg')].count() / c_neg\n",
    "    return negative\n",
    "\n",
    "def bayes(features, fea_entry):\n",
    "    positive = probp(features[0],fea_entry[0])*probp(features[1],fea_entry[1])*probp(features[2],fea_entry[2])*p_pos\n",
    "    negative = probn(features[0],fea_entry[0])*probn(features[1],fea_entry[1])*probn(features[2],fea_entry[2])*p_neg\n",
    "    print('Probability of Class being positive :')\n",
    "    print()\n",
    "    print(positive)\n",
    "    print('--------------------------------------------------------------')\n",
    "    print('Probability of Class being negative :')\n",
    "    print()\n",
    "    print(negative)\n",
    "\n",
    "# Enter the test data here based on the type of training data\n",
    "features = ['Wear','Vegetarian','Cuisine']\n",
    "fea_entry = ['Casual','No','French']\n",
    "\n",
    "bayes(features,fea_entry)"
   ]
  },
  {
   "cell_type": "code",
   "execution_count": 53,
   "metadata": {},
   "outputs": [],
   "source": []
  }
 ],
 "metadata": {
  "kernelspec": {
   "display_name": "Python 3",
   "language": "python",
   "name": "python3"
  },
  "language_info": {
   "codemirror_mode": {
    "name": "ipython",
    "version": 3
   },
   "file_extension": ".py",
   "mimetype": "text/x-python",
   "name": "python",
   "nbconvert_exporter": "python",
   "pygments_lexer": "ipython3",
   "version": "3.8.5"
  }
 },
 "nbformat": 4,
 "nbformat_minor": 4
}
